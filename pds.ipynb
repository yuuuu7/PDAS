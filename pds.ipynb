{
 "cells": [
  {
   "cell_type": "code",
   "execution_count": null,
   "metadata": {},
   "outputs": [],
   "source": [
    "print(\"*********************************************************\")\n",
    "print(\"Calculate the average electricity bill for last 6 months\")\n",
    "print(\"*********************************************************\\n\\n\")\n",
    "bill1 = int(input(\"Enter Bill #1: \"))\n",
    "bill2 = int(input(\"Enter Bill #2: \"))\n",
    "bill3 = int(input(\"Enter Bill #3: \"))\n",
    "bill4 = int(input(\"Enter Bill #4: \"))\n",
    "bill5 = int(input(\"Enter Bill #5: \"))\n",
    "bill6 = int(input(\"Enter Bill #6: \"))\n",
    "\n",
    "print(f'\\nYour electricity bills for the past 6 months are: \\n ${bill1}, ${bill2}, ${bill3}, ${bill4}, ${bill5}, ${bill6}')\n",
    "      \n",
    "averageBill = (bill1+bill2+bill3+bill4+bill5+bill6)/6\n",
    "      \n",
    "print(f\"\\nYour average electricity bill for the past 6 months is: ${averageBill:.2f}\")"
   ]
  },
  {
   "cell_type": "code",
   "execution_count": null,
   "metadata": {},
   "outputs": [],
   "source": [
    "while True:\n",
    "    print(\"Welcome to SPDonalds!\")\n",
    "    SPMuffin = 5\n",
    "    SPancakes = 3\n",
    "    SPHashbrown = 1.5\n",
    "    print(\"\\nBelow is our Breakfast Menu:\\n1. SPMuffin ($5.00)\\n2. SPancakes ($3.00)\\n3. SPHashbrown ($1.50)\\n4. Quit\")\n",
    "    userChoice = int(input(\"\\nEnter your choice of food: \"))\n",
    "    if userChoice == 1:\n",
    "        print(\"\\nSPMuffins selected...\")\n",
    "        itemQuantity = int(input(\"\\nHow many SPMuffin(s) do you want to order? :\"))\n",
    "        totalPrice = itemQuantity * SPMuffin\n",
    "        print(f\"\\nThe total price for {itemQuantity} SPMuffins is ${totalPrice}\\n\")\n",
    "    elif userChoice == 2:\n",
    "        print(\"\\nSPancakes selected...\")\n",
    "        itemQuantity = int(input(\"\\nHow many SPancake(s) do you want to order? :\"))\n",
    "        totalPrice = itemQuantity * SPancakes\n",
    "        print(f\"\\nThe total price for {itemQuantity} SPancakes is ${totalPrice}\\n\")\n",
    "    elif userChoice == 3:\n",
    "        print(\"\\nSPHashbrowns selected...\")\n",
    "        itemQuantity = int(input(\"\\nHow many SPHashbrown(s) do you want to order? :\"))\n",
    "        totalPrice = itemQuantity * SPHashbrown\n",
    "        print(f\"\\nThe total price for {itemQuantity} SPHashbrowns is ${totalPrice}\\n\")\n",
    "    elif userChoice == 4:\n",
    "        print(\"\\nThanks for using this Program! :D\")\n",
    "        break\n",
    "    else:\n",
    "        print(\"Sorry you have entered an invalid choice, exiting the program...\")\n",
    "        break"
   ]
  },
  {
   "cell_type": "code",
   "execution_count": null,
   "metadata": {},
   "outputs": [],
   "source": [
    "print(\"*** This program prints the sum of a range of numbers from x to y ***\\n\\n For example, if 'x' is 10 and 'y' is 50, the program will print the sum of numbers from 10 to 50\")\n",
    "x = input(\"Please enter a value for x: \")\n",
    "y = input(\"Please enter a value for y: \")\n",
    "if x.isnumeric() and y.isnumeric():\n",
    "    if x > 0 and y > 0:\n",
    "        s\n",
    "else:\n",
    "    print(\"One or more of your inputs are not numeric!\\nUnable to continue. Program Terminated.\")"
   ]
  }
 ],
 "metadata": {
  "kernelspec": {
   "display_name": "Python 3",
   "language": "python",
   "name": "python3"
  },
  "language_info": {
   "codemirror_mode": {
    "name": "ipython",
    "version": 3
   },
   "file_extension": ".py",
   "mimetype": "text/x-python",
   "name": "python",
   "nbconvert_exporter": "python",
   "pygments_lexer": "ipython3",
   "version": "3.10.11"
  },
  "orig_nbformat": 4
 },
 "nbformat": 4,
 "nbformat_minor": 2
}
