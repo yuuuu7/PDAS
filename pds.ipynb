{
 "cells": [
  {
   "cell_type": "code",
   "execution_count": null,
   "metadata": {},
   "outputs": [],
   "source": [
    "print(\"*********************************************************\")\n",
    "print(\"Calculate the average electricity bill for last 6 months\")\n",
    "print(\"*********************************************************\\n\\n\")\n",
    "bill1 = int(input(\"Enter Bill #1: \"))\n",
    "bill2 = int(input(\"Enter Bill #2: \"))\n",
    "bill3 = int(input(\"Enter Bill #3: \"))\n",
    "bill4 = int(input(\"Enter Bill #4: \"))\n",
    "bill5 = int(input(\"Enter Bill #5: \"))\n",
    "bill6 = int(input(\"Enter Bill #6: \"))\n",
    "\n",
    "print(f'\\nYour electricity bills for the past 6 months are: \\n ${bill1}, ${bill2}, ${bill3}, ${bill4}, ${bill5}, ${bill6}')\n",
    "      \n",
    "averageBill = (bill1+bill2+bill3+bill4+bill5+bill6)/6\n",
    "      \n",
    "print(f\"\\nYour average electricity bill for the past 6 months is: ${averageBill:.2f}\")"
   ]
  },
  {
   "cell_type": "code",
   "execution_count": null,
   "metadata": {},
   "outputs": [],
   "source": [
    "while True:\n",
    "    print(\"Welcome to SPDonalds!\")\n",
    "    SPMuffin = 5\n",
    "    SPancakes = 3\n",
    "    SPHashbrown = 1.5\n",
    "    print(\"\\nBelow is our Breakfast Menu:\\n1. SPMuffin ($5.00)\\n2. SPancakes ($3.00)\\n3. SPHashbrown ($1.50)\\n4. Quit\")\n",
    "    userChoice = int(input(\"\\nEnter your choice of food: \"))\n",
    "    if userChoice == 1:\n",
    "        print(\"\\nSPMuffins selected...\")\n",
    "        itemQuantity = int(input(\"\\nHow many SPMuffin(s) do you want to order? :\"))\n",
    "        totalPrice = itemQuantity * SPMuffin\n",
    "        print(f\"\\nThe total price for {itemQuantity} SPMuffins is ${totalPrice}\\n\")\n",
    "    elif userChoice == 2:\n",
    "        print(\"\\nSPancakes selected...\")\n",
    "        itemQuantity = int(input(\"\\nHow many SPancake(s) do you want to order? :\"))\n",
    "        totalPrice = itemQuantity * SPancakes\n",
    "        print(f\"\\nThe total price for {itemQuantity} SPancakes is ${totalPrice}\\n\")\n",
    "    elif userChoice == 3:\n",
    "        print(\"\\nSPHashbrowns selected...\")\n",
    "        itemQuantity = int(input(\"\\nHow many SPHashbrown(s) do you want to order? :\"))\n",
    "        totalPrice = itemQuantity * SPHashbrown\n",
    "        print(f\"\\nThe total price for {itemQuantity} SPHashbrowns is ${totalPrice}\\n\")\n",
    "    elif userChoice == 4:\n",
    "        print(\"\\nThanks for using this Program! :D\")\n",
    "        break\n",
    "    else:\n",
    "        print(\"Sorry you have entered an invalid choice, exiting the program...\")\n",
    "        break"
   ]
  },
  {
   "cell_type": "code",
   "execution_count": 1,
   "metadata": {},
   "outputs": [
    {
     "name": "stdout",
     "output_type": "stream",
     "text": [
      "*** This program prints the sum of a range of numbers from x to y ***\n",
      "\n",
      " For example, if 'x' is 10 and 'y' is 50, the program will print the sum of numbers from 10 to 50\n"
     ]
    },
    {
     "ename": "KeyboardInterrupt",
     "evalue": "Interrupted by user",
     "output_type": "error",
     "traceback": [
      "\u001b[1;31m---------------------------------------------------------------------------\u001b[0m",
      "\u001b[1;31mKeyboardInterrupt\u001b[0m                         Traceback (most recent call last)",
      "Cell \u001b[1;32mIn[1], line 2\u001b[0m\n\u001b[0;32m      1\u001b[0m \u001b[39mprint\u001b[39m(\u001b[39m\"\u001b[39m\u001b[39m*** This program prints the sum of a range of numbers from x to y ***\u001b[39m\u001b[39m\\n\u001b[39;00m\u001b[39m\\n\u001b[39;00m\u001b[39m For example, if \u001b[39m\u001b[39m'\u001b[39m\u001b[39mx\u001b[39m\u001b[39m'\u001b[39m\u001b[39m is 10 and \u001b[39m\u001b[39m'\u001b[39m\u001b[39my\u001b[39m\u001b[39m'\u001b[39m\u001b[39m is 50, the program will print the sum of numbers from 10 to 50\u001b[39m\u001b[39m\"\u001b[39m)\n\u001b[1;32m----> 2\u001b[0m x \u001b[39m=\u001b[39m \u001b[39minput\u001b[39;49m(\u001b[39m\"\u001b[39;49m\u001b[39mPlease enter a value for x: \u001b[39;49m\u001b[39m\"\u001b[39;49m)\n\u001b[0;32m      3\u001b[0m y \u001b[39m=\u001b[39m \u001b[39minput\u001b[39m(\u001b[39m\"\u001b[39m\u001b[39mPlease enter a value for y: \u001b[39m\u001b[39m\"\u001b[39m)\n\u001b[0;32m      4\u001b[0m \u001b[39mif\u001b[39;00m x\u001b[39m.\u001b[39misnumeric() \u001b[39mand\u001b[39;00m y\u001b[39m.\u001b[39misnumeric():\n",
      "File \u001b[1;32m~\\AppData\\Local\\Packages\\PythonSoftwareFoundation.Python.3.10_qbz5n2kfra8p0\\LocalCache\\local-packages\\Python310\\site-packages\\ipykernel\\kernelbase.py:1191\u001b[0m, in \u001b[0;36mKernel.raw_input\u001b[1;34m(self, prompt)\u001b[0m\n\u001b[0;32m   1189\u001b[0m     msg \u001b[39m=\u001b[39m \u001b[39m\"\u001b[39m\u001b[39mraw_input was called, but this frontend does not support input requests.\u001b[39m\u001b[39m\"\u001b[39m\n\u001b[0;32m   1190\u001b[0m     \u001b[39mraise\u001b[39;00m StdinNotImplementedError(msg)\n\u001b[1;32m-> 1191\u001b[0m \u001b[39mreturn\u001b[39;00m \u001b[39mself\u001b[39;49m\u001b[39m.\u001b[39;49m_input_request(\n\u001b[0;32m   1192\u001b[0m     \u001b[39mstr\u001b[39;49m(prompt),\n\u001b[0;32m   1193\u001b[0m     \u001b[39mself\u001b[39;49m\u001b[39m.\u001b[39;49m_parent_ident[\u001b[39m\"\u001b[39;49m\u001b[39mshell\u001b[39;49m\u001b[39m\"\u001b[39;49m],\n\u001b[0;32m   1194\u001b[0m     \u001b[39mself\u001b[39;49m\u001b[39m.\u001b[39;49mget_parent(\u001b[39m\"\u001b[39;49m\u001b[39mshell\u001b[39;49m\u001b[39m\"\u001b[39;49m),\n\u001b[0;32m   1195\u001b[0m     password\u001b[39m=\u001b[39;49m\u001b[39mFalse\u001b[39;49;00m,\n\u001b[0;32m   1196\u001b[0m )\n",
      "File \u001b[1;32m~\\AppData\\Local\\Packages\\PythonSoftwareFoundation.Python.3.10_qbz5n2kfra8p0\\LocalCache\\local-packages\\Python310\\site-packages\\ipykernel\\kernelbase.py:1234\u001b[0m, in \u001b[0;36mKernel._input_request\u001b[1;34m(self, prompt, ident, parent, password)\u001b[0m\n\u001b[0;32m   1231\u001b[0m \u001b[39mexcept\u001b[39;00m \u001b[39mKeyboardInterrupt\u001b[39;00m:\n\u001b[0;32m   1232\u001b[0m     \u001b[39m# re-raise KeyboardInterrupt, to truncate traceback\u001b[39;00m\n\u001b[0;32m   1233\u001b[0m     msg \u001b[39m=\u001b[39m \u001b[39m\"\u001b[39m\u001b[39mInterrupted by user\u001b[39m\u001b[39m\"\u001b[39m\n\u001b[1;32m-> 1234\u001b[0m     \u001b[39mraise\u001b[39;00m \u001b[39mKeyboardInterrupt\u001b[39;00m(msg) \u001b[39mfrom\u001b[39;00m \u001b[39mNone\u001b[39;00m\n\u001b[0;32m   1235\u001b[0m \u001b[39mexcept\u001b[39;00m \u001b[39mException\u001b[39;00m:\n\u001b[0;32m   1236\u001b[0m     \u001b[39mself\u001b[39m\u001b[39m.\u001b[39mlog\u001b[39m.\u001b[39mwarning(\u001b[39m\"\u001b[39m\u001b[39mInvalid Message:\u001b[39m\u001b[39m\"\u001b[39m, exc_info\u001b[39m=\u001b[39m\u001b[39mTrue\u001b[39;00m)\n",
      "\u001b[1;31mKeyboardInterrupt\u001b[0m: Interrupted by user"
     ]
    }
   ],
   "source": [
    "print(\"*** This program prints the sum of a range of numbers from x to y ***\\n\\n For example, if 'x' is 10 and 'y' is 50, the program will print the sum of numbers from 10 to 50\")\n",
    "try:\n",
    "    x = int(input(\"\\nPlease enter a value for x: \"))\n",
    "    y = int(input(\"\\nPlease enter a value for y: \"))\n",
    "    if x > 0 and y > 0:\n",
    "        if y > x:\n",
    "            start = x\n",
    "            end = y\n",
    "\n",
    "            sum_of_numbers = sum(range(start, end+1))\n",
    "\n",
    "            print(\"\\nThe sum of numbers between\", start, \"and\", end, \"is:\", sum_of_numbers)   \n",
    "        else:\n",
    "            print(\"You did not enter a value of y that is greater than x\\nUnable to continue. Program Terminated.\")\n",
    "    else:\n",
    "        print(\"One or more of your inputs are not greater than Zero!\\nUnable to continue. Program Terminated.\")\n",
    "except ValueError:\n",
    "    print(\"One or more of your inputs are not numeric!\\nUnable to continue. Program Terminated.\")"
   ]
  },
  {
   "cell_type": "code",
   "execution_count": null,
   "metadata": {},
   "outputs": [],
   "source": [
    "list_1 = [300,50,80,90,199,800,74,33]\n",
    "list_2 = ['Apple','Banana','Durian','Grapes','Papaya','Watermelon']\n",
    "list_3 = [0.0, 1.1, 2.2, 3.3, 4.4, 5.5, 6.6, 7.7, 8.8,9.9]\n",
    "\n",
    "#Q1a\n",
    "\n",
    "print(list_1[-3:])\n",
    "\n",
    "#Q1b\n",
    "\n",
    "print(list_2[-2:])\n",
    "\n",
    "#Q1c\n",
    "print(list_3[1:-1])"
   ]
  },
  {
   "cell_type": "code",
   "execution_count": null,
   "metadata": {},
   "outputs": [],
   "source": [
    "import random\n",
    "\n",
    "def oddandeven(numbers_list):\n",
    "    even_numbers = []\n",
    "    odd_numbers = []\n",
    "    for num in numbers_list:\n",
    "        if num % 2 == 0:\n",
    "            even_numbers.append(num)\n",
    "        else:\n",
    "            odd_numbers.append(num)\n",
    "    return even_numbers, odd_numbers\n",
    "\n",
    "numbers = (random.randint(1,100) for x in range(0,20))\n",
    "\n",
    "even_numbers, odd_numbers = oddandeven(numbers)\n",
    "\n",
    "print(f\"Odd: {odd_numbers}\")\n",
    "print(f\"Even: {even_numbers}\")"
   ]
  }
 ],
 "metadata": {
  "kernelspec": {
   "display_name": "Python 3",
   "language": "python",
   "name": "python3"
  },
  "language_info": {
   "codemirror_mode": {
    "name": "ipython",
    "version": 3
   },
   "file_extension": ".py",
   "mimetype": "text/x-python",
   "name": "python",
   "nbconvert_exporter": "python",
   "pygments_lexer": "ipython3",
   "version": "3.10.11"
  },
  "orig_nbformat": 4
 },
 "nbformat": 4,
 "nbformat_minor": 2
}
